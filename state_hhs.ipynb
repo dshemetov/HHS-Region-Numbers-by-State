{
 "metadata": {
  "language_info": {
   "codemirror_mode": {
    "name": "ipython",
    "version": 3
   },
   "file_extension": ".py",
   "mimetype": "text/x-python",
   "name": "python",
   "nbconvert_exporter": "python",
   "pygments_lexer": "ipython3",
   "version": "3.8.5-final"
  },
  "orig_nbformat": 2,
  "kernelspec": {
   "name": "python_defaultSpec_1599606220733",
   "display_name": "Python 3.8.5 64-bit ('delphi': venv)"
  }
 },
 "nbformat": 4,
 "nbformat_minor": 2,
 "cells": [
  {
   "cell_type": "markdown",
   "metadata": {},
   "source": [
    "# Create a table converting state codes to HHS region numbers\n",
    "Manual data processing."
   ]
  },
  {
   "cell_type": "code",
   "execution_count": 8,
   "metadata": {},
   "outputs": [],
   "source": [
    "import pandas as pd"
   ]
  },
  {
   "cell_type": "code",
   "execution_count": 13,
   "metadata": {},
   "outputs": [],
   "source": [
    "# Open verbatim text from https://www.hhs.gov/about/agencies/iea/regional-offices/index.html\n",
    "with open(\"/home/dskel/Code/HHS-Region-Numbers-by-State/hhs.txt\") as f:\n",
    "    temp = f.readlines()\n",
    "\n",
    "# Process text into state, region number pairs \n",
    "temp = [int(s[7:9]) if \"Region\" in s else s for s in temp]\n",
    "temp = [s.strip().split(\", \") if type(s) == str else s for s in temp]\n",
    "temp = {temp[i]:temp[i+1] for i in range(0, len(temp), 2)}\n",
    "temp = {key:[s.lstrip(' and') for s in temp[key]] for key in temp}\n",
    "temp = [[(key, x) for x in temp[key]] for key in temp]\n",
    "hhs_state_pairs = [x for y in temp for x in y]\n",
    "\n",
    "# Make naming adjustments\n",
    "hhs_state_pairs.remove((2, \"the Virgin Islands\"))\n",
    "hhs_state_pairs.append((2, \"U.S. Virgin Islands\"))\n",
    "hhs_state_pairs.remove((9, \"Commonwealth of the Northern Mariana Islands\"))\n",
    "hhs_state_pairs.append((9, \"Northern Mariana Islands\"))"
   ]
  },
  {
   "cell_type": "code",
   "execution_count": 14,
   "metadata": {},
   "outputs": [
    {
     "output_type": "execute_result",
     "data": {
      "text/plain": "[(1, 'Connecticut'),\n (1, 'Maine'),\n (1, 'Massachusetts'),\n (1, 'New Hampshire'),\n (1, 'Rhode Island'),\n (1, 'Vermont'),\n (2, 'New Jersey'),\n (2, 'New York'),\n (2, 'Puerto Rico'),\n (3, 'Delaware'),\n (3, 'District of Columbia'),\n (3, 'Maryland'),\n (3, 'Pennsylvania'),\n (3, 'Virginia'),\n (3, 'West Virginia'),\n (4, 'Alabama'),\n (4, 'Florida'),\n (4, 'Georgia'),\n (4, 'Kentucky'),\n (4, 'Mississippi'),\n (4, 'North Carolina'),\n (4, 'South Carolina'),\n (4, 'Tennessee'),\n (5, 'Illinois'),\n (5, 'Indiana'),\n (5, 'Michigan'),\n (5, 'Minnesota'),\n (5, 'Ohio'),\n (5, 'Wisconsin'),\n (6, 'Arkansas'),\n (6, 'Louisiana'),\n (6, 'New Mexico'),\n (6, 'Oklahoma'),\n (6, 'Texas'),\n (7, 'Iowa'),\n (7, 'Kansas'),\n (7, 'Missouri'),\n (7, 'Nebraska'),\n (8, 'Colorado'),\n (8, 'Montana'),\n (8, 'North Dakota'),\n (8, 'South Dakota'),\n (8, 'Utah'),\n (8, 'Wyoming'),\n (9, 'Arizona'),\n (9, 'California'),\n (9, 'Hawaii'),\n (9, 'Nevada'),\n (9, 'American Samoa'),\n (9, 'Federated States of Micronesia'),\n (9, 'Guam'),\n (9, 'Marshall Islands'),\n (9, 'Republic of Palau'),\n (10, 'Alaska'),\n (10, 'Idaho'),\n (10, 'Oregon'),\n (10, 'Washington'),\n (2, 'U.S. Virgin Islands'),\n (9, 'Northern Mariana Islands')]"
     },
     "metadata": {},
     "execution_count": 14
    }
   ],
   "source": [
    "hhs_state_pairs"
   ]
  },
  {
   "cell_type": "code",
   "execution_count": 15,
   "metadata": {},
   "outputs": [],
   "source": [
    "hhs_df = pd.DataFrame(hhs_state_pairs, columns=[\"hhs_region_number\", \"state_name\"])\n",
    "hhs_df['hhs_region_number'] = hhs_df['hhs_region_number'].astype(str)"
   ]
  },
  {
   "cell_type": "markdown",
   "metadata": {},
   "source": [
    "Open state codes crosswalk from the US Census Bureau."
   ]
  },
  {
   "cell_type": "code",
   "execution_count": 16,
   "metadata": {},
   "outputs": [],
   "source": [
    "states_df = (\n",
    "    pd.read_csv(\"http://www2.census.gov/geo/docs/reference/state.txt?#\", delimiter=\"|\")\n",
    "    .drop(columns=\"STATENS\")\n",
    "    .rename(\n",
    "        columns={\n",
    "            \"STATE\": \"state_code\",\n",
    "            \"STUSAB\": \"state_id\",\n",
    "            \"STATE_NAME\": \"state_name\",\n",
    "        }\n",
    "    )\n",
    ")\n",
    "states_df[\"state_code\"] = states_df[\"state_code\"].astype(str).str.zfill(2)\n",
    "states_df[\"state_id\"] = states_df[\"state_id\"].astype(str).str.lower()\n",
    "\n",
    "# Add a few extra US state territories manually\n",
    "states_df = pd.concat(\n",
    "    (\n",
    "        states_df,\n",
    "        pd.DataFrame(\n",
    "            [\n",
    "                {\n",
    "                    \"state_code\": 70,\n",
    "                    \"state_name\": \"Republic of Palau\",\n",
    "                    \"state_id\": \"pw\",\n",
    "                },\n",
    "                {\n",
    "                    \"state_code\": 68,\n",
    "                    \"state_name\": \"Marshall Islands\",\n",
    "                    \"state_id\": \"mh\",\n",
    "                },\n",
    "                {\n",
    "                    \"state_code\": 64,\n",
    "                    \"state_name\": \"Federated States of Micronesia\",\n",
    "                    \"state_id\": \"fm\",\n",
    "                },\n",
    "            ]\n",
    "        ),\n",
    "    )\n",
    ")\n"
   ]
  },
  {
   "cell_type": "code",
   "execution_count": 17,
   "metadata": {},
   "outputs": [
    {
     "output_type": "execute_result",
     "data": {
      "text/plain": "   state_code state_id                      state_name\n0          01       al                         Alabama\n1          02       ak                          Alaska\n2          04       az                         Arizona\n3          05       ar                        Arkansas\n4          06       ca                      California\n5          08       co                        Colorado\n6          09       ct                     Connecticut\n7          10       de                        Delaware\n8          11       dc            District of Columbia\n9          12       fl                         Florida\n10         13       ga                         Georgia\n11         15       hi                          Hawaii\n12         16       id                           Idaho\n13         17       il                        Illinois\n14         18       in                         Indiana\n15         19       ia                            Iowa\n16         20       ks                          Kansas\n17         21       ky                        Kentucky\n18         22       la                       Louisiana\n19         23       me                           Maine\n20         24       md                        Maryland\n21         25       ma                   Massachusetts\n22         26       mi                        Michigan\n23         27       mn                       Minnesota\n24         28       ms                     Mississippi\n25         29       mo                        Missouri\n26         30       mt                         Montana\n27         31       ne                        Nebraska\n28         32       nv                          Nevada\n29         33       nh                   New Hampshire\n30         34       nj                      New Jersey\n31         35       nm                      New Mexico\n32         36       ny                        New York\n33         37       nc                  North Carolina\n34         38       nd                    North Dakota\n35         39       oh                            Ohio\n36         40       ok                        Oklahoma\n37         41       or                          Oregon\n38         42       pa                    Pennsylvania\n39         44       ri                    Rhode Island\n40         45       sc                  South Carolina\n41         46       sd                    South Dakota\n42         47       tn                       Tennessee\n43         48       tx                           Texas\n44         49       ut                            Utah\n45         50       vt                         Vermont\n46         51       va                        Virginia\n47         53       wa                      Washington\n48         54       wv                   West Virginia\n49         55       wi                       Wisconsin\n50         56       wy                         Wyoming\n51         60       as                  American Samoa\n52         66       gu                            Guam\n53         69       mp        Northern Mariana Islands\n54         72       pr                     Puerto Rico\n55         74       um     U.S. Minor Outlying Islands\n56         78       vi             U.S. Virgin Islands\n0          70       pw               Republic of Palau\n1          68       mh                Marshall Islands\n2          64       fm  Federated States of Micronesia",
      "text/html": "<div>\n<style scoped>\n    .dataframe tbody tr th:only-of-type {\n        vertical-align: middle;\n    }\n\n    .dataframe tbody tr th {\n        vertical-align: top;\n    }\n\n    .dataframe thead th {\n        text-align: right;\n    }\n</style>\n<table border=\"1\" class=\"dataframe\">\n  <thead>\n    <tr style=\"text-align: right;\">\n      <th></th>\n      <th>state_code</th>\n      <th>state_id</th>\n      <th>state_name</th>\n    </tr>\n  </thead>\n  <tbody>\n    <tr>\n      <th>0</th>\n      <td>01</td>\n      <td>al</td>\n      <td>Alabama</td>\n    </tr>\n    <tr>\n      <th>1</th>\n      <td>02</td>\n      <td>ak</td>\n      <td>Alaska</td>\n    </tr>\n    <tr>\n      <th>2</th>\n      <td>04</td>\n      <td>az</td>\n      <td>Arizona</td>\n    </tr>\n    <tr>\n      <th>3</th>\n      <td>05</td>\n      <td>ar</td>\n      <td>Arkansas</td>\n    </tr>\n    <tr>\n      <th>4</th>\n      <td>06</td>\n      <td>ca</td>\n      <td>California</td>\n    </tr>\n    <tr>\n      <th>5</th>\n      <td>08</td>\n      <td>co</td>\n      <td>Colorado</td>\n    </tr>\n    <tr>\n      <th>6</th>\n      <td>09</td>\n      <td>ct</td>\n      <td>Connecticut</td>\n    </tr>\n    <tr>\n      <th>7</th>\n      <td>10</td>\n      <td>de</td>\n      <td>Delaware</td>\n    </tr>\n    <tr>\n      <th>8</th>\n      <td>11</td>\n      <td>dc</td>\n      <td>District of Columbia</td>\n    </tr>\n    <tr>\n      <th>9</th>\n      <td>12</td>\n      <td>fl</td>\n      <td>Florida</td>\n    </tr>\n    <tr>\n      <th>10</th>\n      <td>13</td>\n      <td>ga</td>\n      <td>Georgia</td>\n    </tr>\n    <tr>\n      <th>11</th>\n      <td>15</td>\n      <td>hi</td>\n      <td>Hawaii</td>\n    </tr>\n    <tr>\n      <th>12</th>\n      <td>16</td>\n      <td>id</td>\n      <td>Idaho</td>\n    </tr>\n    <tr>\n      <th>13</th>\n      <td>17</td>\n      <td>il</td>\n      <td>Illinois</td>\n    </tr>\n    <tr>\n      <th>14</th>\n      <td>18</td>\n      <td>in</td>\n      <td>Indiana</td>\n    </tr>\n    <tr>\n      <th>15</th>\n      <td>19</td>\n      <td>ia</td>\n      <td>Iowa</td>\n    </tr>\n    <tr>\n      <th>16</th>\n      <td>20</td>\n      <td>ks</td>\n      <td>Kansas</td>\n    </tr>\n    <tr>\n      <th>17</th>\n      <td>21</td>\n      <td>ky</td>\n      <td>Kentucky</td>\n    </tr>\n    <tr>\n      <th>18</th>\n      <td>22</td>\n      <td>la</td>\n      <td>Louisiana</td>\n    </tr>\n    <tr>\n      <th>19</th>\n      <td>23</td>\n      <td>me</td>\n      <td>Maine</td>\n    </tr>\n    <tr>\n      <th>20</th>\n      <td>24</td>\n      <td>md</td>\n      <td>Maryland</td>\n    </tr>\n    <tr>\n      <th>21</th>\n      <td>25</td>\n      <td>ma</td>\n      <td>Massachusetts</td>\n    </tr>\n    <tr>\n      <th>22</th>\n      <td>26</td>\n      <td>mi</td>\n      <td>Michigan</td>\n    </tr>\n    <tr>\n      <th>23</th>\n      <td>27</td>\n      <td>mn</td>\n      <td>Minnesota</td>\n    </tr>\n    <tr>\n      <th>24</th>\n      <td>28</td>\n      <td>ms</td>\n      <td>Mississippi</td>\n    </tr>\n    <tr>\n      <th>25</th>\n      <td>29</td>\n      <td>mo</td>\n      <td>Missouri</td>\n    </tr>\n    <tr>\n      <th>26</th>\n      <td>30</td>\n      <td>mt</td>\n      <td>Montana</td>\n    </tr>\n    <tr>\n      <th>27</th>\n      <td>31</td>\n      <td>ne</td>\n      <td>Nebraska</td>\n    </tr>\n    <tr>\n      <th>28</th>\n      <td>32</td>\n      <td>nv</td>\n      <td>Nevada</td>\n    </tr>\n    <tr>\n      <th>29</th>\n      <td>33</td>\n      <td>nh</td>\n      <td>New Hampshire</td>\n    </tr>\n    <tr>\n      <th>30</th>\n      <td>34</td>\n      <td>nj</td>\n      <td>New Jersey</td>\n    </tr>\n    <tr>\n      <th>31</th>\n      <td>35</td>\n      <td>nm</td>\n      <td>New Mexico</td>\n    </tr>\n    <tr>\n      <th>32</th>\n      <td>36</td>\n      <td>ny</td>\n      <td>New York</td>\n    </tr>\n    <tr>\n      <th>33</th>\n      <td>37</td>\n      <td>nc</td>\n      <td>North Carolina</td>\n    </tr>\n    <tr>\n      <th>34</th>\n      <td>38</td>\n      <td>nd</td>\n      <td>North Dakota</td>\n    </tr>\n    <tr>\n      <th>35</th>\n      <td>39</td>\n      <td>oh</td>\n      <td>Ohio</td>\n    </tr>\n    <tr>\n      <th>36</th>\n      <td>40</td>\n      <td>ok</td>\n      <td>Oklahoma</td>\n    </tr>\n    <tr>\n      <th>37</th>\n      <td>41</td>\n      <td>or</td>\n      <td>Oregon</td>\n    </tr>\n    <tr>\n      <th>38</th>\n      <td>42</td>\n      <td>pa</td>\n      <td>Pennsylvania</td>\n    </tr>\n    <tr>\n      <th>39</th>\n      <td>44</td>\n      <td>ri</td>\n      <td>Rhode Island</td>\n    </tr>\n    <tr>\n      <th>40</th>\n      <td>45</td>\n      <td>sc</td>\n      <td>South Carolina</td>\n    </tr>\n    <tr>\n      <th>41</th>\n      <td>46</td>\n      <td>sd</td>\n      <td>South Dakota</td>\n    </tr>\n    <tr>\n      <th>42</th>\n      <td>47</td>\n      <td>tn</td>\n      <td>Tennessee</td>\n    </tr>\n    <tr>\n      <th>43</th>\n      <td>48</td>\n      <td>tx</td>\n      <td>Texas</td>\n    </tr>\n    <tr>\n      <th>44</th>\n      <td>49</td>\n      <td>ut</td>\n      <td>Utah</td>\n    </tr>\n    <tr>\n      <th>45</th>\n      <td>50</td>\n      <td>vt</td>\n      <td>Vermont</td>\n    </tr>\n    <tr>\n      <th>46</th>\n      <td>51</td>\n      <td>va</td>\n      <td>Virginia</td>\n    </tr>\n    <tr>\n      <th>47</th>\n      <td>53</td>\n      <td>wa</td>\n      <td>Washington</td>\n    </tr>\n    <tr>\n      <th>48</th>\n      <td>54</td>\n      <td>wv</td>\n      <td>West Virginia</td>\n    </tr>\n    <tr>\n      <th>49</th>\n      <td>55</td>\n      <td>wi</td>\n      <td>Wisconsin</td>\n    </tr>\n    <tr>\n      <th>50</th>\n      <td>56</td>\n      <td>wy</td>\n      <td>Wyoming</td>\n    </tr>\n    <tr>\n      <th>51</th>\n      <td>60</td>\n      <td>as</td>\n      <td>American Samoa</td>\n    </tr>\n    <tr>\n      <th>52</th>\n      <td>66</td>\n      <td>gu</td>\n      <td>Guam</td>\n    </tr>\n    <tr>\n      <th>53</th>\n      <td>69</td>\n      <td>mp</td>\n      <td>Northern Mariana Islands</td>\n    </tr>\n    <tr>\n      <th>54</th>\n      <td>72</td>\n      <td>pr</td>\n      <td>Puerto Rico</td>\n    </tr>\n    <tr>\n      <th>55</th>\n      <td>74</td>\n      <td>um</td>\n      <td>U.S. Minor Outlying Islands</td>\n    </tr>\n    <tr>\n      <th>56</th>\n      <td>78</td>\n      <td>vi</td>\n      <td>U.S. Virgin Islands</td>\n    </tr>\n    <tr>\n      <th>0</th>\n      <td>70</td>\n      <td>pw</td>\n      <td>Republic of Palau</td>\n    </tr>\n    <tr>\n      <th>1</th>\n      <td>68</td>\n      <td>mh</td>\n      <td>Marshall Islands</td>\n    </tr>\n    <tr>\n      <th>2</th>\n      <td>64</td>\n      <td>fm</td>\n      <td>Federated States of Micronesia</td>\n    </tr>\n  </tbody>\n</table>\n</div>"
     },
     "metadata": {},
     "execution_count": 17
    }
   ],
   "source": [
    "states_df"
   ]
  },
  {
   "cell_type": "code",
   "execution_count": 20,
   "metadata": {},
   "outputs": [],
   "source": [
    "states_df.merge(hhs_df, on=\"state_name\", how=\"left\").dropna().to_csv(\n",
    "    \"/home/dskel/Code/HHS-Region-Numbers-by-State/state_hhs_crosswalk.csv\", index=False\n",
    ")"
   ]
  }
 ]
}